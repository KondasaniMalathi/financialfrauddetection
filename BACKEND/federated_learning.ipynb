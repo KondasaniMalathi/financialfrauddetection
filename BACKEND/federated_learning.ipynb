{
 "cells": [
  {
   "cell_type": "code",
   "execution_count": 13,
   "metadata": {},
   "outputs": [
    {
     "name": "stdout",
     "output_type": "stream",
     "text": [
      "Accuracy: 1.00\n",
      "Classification Report:\n",
      "              precision    recall  f1-score   support\n",
      "\n",
      "           0       1.00      1.00      1.00      3316\n",
      "           1       1.00      1.00      1.00      3239\n",
      "\n",
      "    accuracy                           1.00      6555\n",
      "   macro avg       1.00      1.00      1.00      6555\n",
      "weighted avg       1.00      1.00      1.00      6555\n",
      "\n",
      "Confusion Matrix:\n",
      "[[3314    2]\n",
      " [   0 3239]]\n"
     ]
    },
    {
     "data": {
      "image/png": "[encoded data removed]",
      "text/plain": [
       "<Figure size 1000x700 with 2 Axes>"
      ]
     },
     "metadata": {},
     "output_type": "display_data"
    },
    {
     "name": "stdout",
     "output_type": "stream",
     "text": [
      "Prediction for input_values: Not Fraud\n"
     ]
    }
   ],
   "source": [
    "import pandas as pd\n",
    "import numpy as np\n",
    "import matplotlib.pyplot as plt\n",
    "import seaborn as sns\n",
    "from sklearn.model_selection import train_test_split\n",
    "from sklearn.ensemble import RandomForestClassifier\n",
    "from sklearn.metrics import accuracy_score, classification_report, confusion_matrix\n",
    "\n",
    "# Load the provided Excel file to inspect its contents\n",
    "file_path = 'Transparency_balanced.xlsx'\n",
    "xls = pd.ExcelFile(file_path)\n",
    "\n",
    "# Check sheet names and load data from the first sheet\n",
    "df = pd.read_excel(file_path, sheet_name='Sheet1')\n",
    "\n",
    "# Prepare the dataset (dropping unnecessary columns and handling categorical variables)\n",
    "df_prepared = df.drop(['nameOrig', 'nameDest'], axis=1)\n",
    "df_prepared = pd.get_dummies(df_prepared, columns=['type'], drop_first=True)\n",
    "\n",
    "# Define the feature columns and target (isFraud)\n",
    "X = df_prepared.drop(['isFraud', 'isFlaggedFraud'], axis=1)\n",
    "y = df_prepared['isFraud']\n",
    "\n",
    "# Split the dataset into 3 different \"clients\" (for federated learning simulation)\n",
    "X_client1, X_temp, y_client1, y_temp = train_test_split(X, y, test_size=0.66, random_state=42)\n",
    "X_client2, X_client3, y_client2, y_client3 = train_test_split(X_temp, y_temp, test_size=0.5, random_state=42)\n",
    "\n",
    "# Define a function to train a RandomForestClassifier for a client\n",
    "def train_on_client(X_train, y_train):\n",
    "    model = RandomForestClassifier(n_estimators=100, random_state=42)\n",
    "    model.fit(X_train, y_train)\n",
    "    return model\n",
    "\n",
    "# Train models for each client\n",
    "model_client1 = train_on_client(X_client1, y_client1)\n",
    "model_client2 = train_on_client(X_client2, y_client2)\n",
    "model_client3 = train_on_client(X_client3, y_client3)\n",
    "\n",
    "# Simulating a basic federated averaging by averaging the predictions of the models\n",
    "def federated_averaging(models, X):\n",
    "    # Collect predictions from all models\n",
    "    predictions = np.mean([model.predict_proba(X) for model in models], axis=0)\n",
    "    return np.argmax(predictions, axis=1)\n",
    "\n",
    "# Define a function to evaluate the model performance\n",
    "def evaluate_model(X_test, y_test, models):\n",
    "    y_pred = federated_averaging(models, X_test)\n",
    "    accuracy = accuracy_score(y_test, y_pred)\n",
    "    report = classification_report(y_test, y_pred)\n",
    "    conf_matrix = confusion_matrix(y_test, y_pred)\n",
    "\n",
    "    print(f\"Accuracy: {accuracy:.2f}\")\n",
    "    print(\"Classification Report:\")\n",
    "    print(report)\n",
    "    print(\"Confusion Matrix:\")\n",
    "    print(conf_matrix)\n",
    "\n",
    "    # Plot confusion matrix\n",
    "    plt.figure(figsize=(10, 7))\n",
    "    sns.heatmap(conf_matrix, annot=True, fmt='d', cmap='Blues', xticklabels=['Not Fraud', 'Fraud'], yticklabels=['Not Fraud', 'Fraud'])\n",
    "    plt.xlabel('Predicted')\n",
    "    plt.ylabel('True')\n",
    "    plt.title('Confusion Matrix')\n",
    "    plt.show()\n",
    "\n",
    "# Split the original dataset into a final train and test set for evaluation\n",
    "X_train, X_test, y_train, y_test = train_test_split(X, y, test_size=0.33, random_state=42)\n",
    "\n",
    "# Train models on the entire training set for final evaluation\n",
    "model_final_client1 = train_on_client(X_train, y_train)\n",
    "model_final_client2 = train_on_client(X_train, y_train)\n",
    "model_final_client3 = train_on_client(X_train, y_train)\n",
    "\n",
    "# Evaluate the models\n",
    "evaluate_model(X_test, y_test, [model_final_client1, model_final_client2, model_final_client3])\n",
    "\n",
    "# Function to predict fraud dynamically based on user input\n",
    "def predict_fraud(input_data):\n",
    "    # Ensure the input_data has the correct shape and features\n",
    "    input_df = pd.DataFrame([input_data])\n",
    "    input_df = pd.get_dummies(input_df, columns=['type'], drop_first=True)\n",
    "    \n",
    "    # Align input_df columns with the model training data columns\n",
    "    missing_cols = set(X.columns) - set(input_df.columns)\n",
    "    for col in missing_cols:\n",
    "        input_df[col] = 0  # Add missing columns and fill with 0\n",
    "    \n",
    "    input_df = input_df[X.columns]  # Reorder columns to match the training set\n",
    "    \n",
    "    # Federated averaging to predict the outcome\n",
    "    models = [model_client1, model_client2, model_client3]\n",
    "    prediction = federated_averaging(models, input_df)\n",
    "    \n",
    "    return \"Fraud\" if prediction[0] == 1 else \"Not Fraud\"\n",
    "\n",
    "# Example input values for dynamic prediction\n",
    "input_values = {\n",
    "    \"step\": 1,\n",
    "    \"type\": \"TRANSFER\",  # Example: \"TRANSFER\", \"CASH_OUT\", etc.\n",
    "    \"amount\": 1000.0,\n",
    "    \"oldbalanceOrg\": 1500.0,\n",
    "    \"newbalanceOrig\": 500.0,\n",
    "    \"oldbalanceDest\": 0.0,\n",
    "    \"newbalanceDest\": 1000.0\n",
    "}\n",
    "\n",
    "# Predict dynamically\n",
    "fraud_prediction = predict_fraud(input_values)\n",
    "print(f\"Prediction for input_values: {fraud_prediction}\")\n"
   ]
  },
  {
   "cell_type": "code",
   "execution_count": 14,
   "metadata": {},
   "outputs": [
    {
     "name": "stdout",
     "output_type": "stream",
     "text": [
      "Prediction for input_values: Fraud\n"
     ]
    }
   ],
   "source": [
    "# Example input values for dynamic prediction\n",
    "input_values = {\n",
    "    \"step\": 1,\n",
    "    \"type\": \"TRANSFER\",  # Example: \"TRANSFER\", \"CASH_OUT\", etc.\n",
    "    \"amount\": 25071.46,\n",
    "    \"oldbalanceOrg\": 25071.46,\n",
    "    \"newbalanceOrig\": 0,\n",
    "    \"oldbalanceDest\": 0,\n",
    "    \"newbalanceDest\": 0\n",
    "}\n",
    "\n",
    "# Predict dynamically\n",
    "fraud_prediction = predict_fraud(input_values)\n",
    "print(f\"Prediction for input_values: {fraud_prediction}\")"
   ]
  },
  {
   "cell_type": "code",
   "execution_count": null,
   "metadata": {},
   "outputs": [],
   "source": []
  }
 ],
 "metadata": {
  "kernelspec": {
   "display_name": "Python 3",
   "language": "python",
   "name": "python3"
  },
  "language_info": {
   "codemirror_mode": {
    "name": "ipython",
    "version": 3
   },
   "file_extension": ".py",
   "mimetype": "text/x-python",
   "name": "python",
   "nbconvert_exporter": "python",
   "pygments_lexer": "ipython3",
   "version": "3.10.8"
  }
 },
 "nbformat": 4,
 "nbformat_minor": 2
}
